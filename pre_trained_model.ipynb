{
 "metadata": {
  "language_info": {
   "codemirror_mode": {
    "name": "ipython",
    "version": 3
   },
   "file_extension": ".py",
   "mimetype": "text/x-python",
   "name": "python",
   "nbconvert_exporter": "python",
   "pygments_lexer": "ipython3",
   "version": 3
  },
  "orig_nbformat": 2
 },
 "nbformat": 4,
 "nbformat_minor": 2,
 "cells": [
  {
   "cell_type": "code",
   "execution_count": null,
   "metadata": {},
   "outputs": [],
   "source": [
    "!pip install wandb"
   ]
  },
  {
   "cell_type": "code",
   "execution_count": null,
   "metadata": {},
   "outputs": [],
   "source": [
    "import wandb\n",
    "from wandb.keras import WandbCallback\n",
    "\n",
    "wandb.login()"
   ]
  },
  {
   "cell_type": "code",
   "execution_count": null,
   "metadata": {},
   "outputs": [],
   "source": [
    "from tensorflow.keras.models import Sequential, Model\n",
    "from tensorflow.keras.layers import Conv2D, Dense, Flatten, MaxPooling2D, BatchNormalization\n",
    "from tensorflow.keras.applications.vgg16 import decode_predictions, preprocess_input, VGG16\n",
    "import numpy as np\n",
    "import tensorflow.keras\n",
    "from tensorflow.keras.preprocessing.image import ImageDataGenerator"
   ]
  },
  {
   "cell_type": "code",
   "execution_count": null,
   "metadata": {},
   "outputs": [],
   "source": [
    "import tensorflow as tf\n",
    "image_gen = ImageDataGenerator(preprocessing_function = preprocess_input)"
   ]
  },
  {
   "cell_type": "code",
   "execution_count": null,
   "metadata": {},
   "outputs": [],
   "source": [
    "train_label = image_gen.flow_from_directory(\"../Datasets/train_images\", target_size = (224,224), batch_size = 32, class_mode = \"categorical\")\n",
    "test_label = image_gen.flow_from_directory(\"../Datasets/test_images\", target_size = (224,224), batch_size = 1, class_mode = \"categorical\", \n",
    "                                          classes = train_label.class_indices)\n",
    "valid_label = image_gen.flow_from_directory(\"../Datasets/valid_images\", target_size = (224,224), batch_size = 32, class_mode = \"categorical\", \n",
    "                                           classes = train_label.class_indices)"
   ]
  },
  {
   "cell_type": "code",
   "execution_count": null,
   "metadata": {},
   "outputs": [],
   "source": [
    "run = wandb.init(project = \"My_first_project\",\n",
    "                 config = {\n",
    "                     \"learning_rate\": 0.005,\n",
    "                     \"epochs\": 5,\n",
    "                     \"loss_function\": \"categorical_crossentropy\"\n",
    "                 })\n",
    "config = wandb.config"
   ]
  },
  {
   "cell_type": "code",
   "execution_count": null,
   "metadata": {},
   "outputs": [],
   "source": [
    "tf.keras.backend.clear_session()\n",
    "\n",
    "base_model = VGG16(include_top = False, weights = \"imagenet\", input_shape = (224,224,3), pooling = \"max\")\n",
    "x = base_model.output\n",
    "x = Dense(1024, activation = \"relu\")(x)\n",
    "x = Dense(train_label.num_classes, activation = \"softmax\")(x)\n",
    "\n",
    "model = Model(inputs = base_model.inputs, outputs = x)\n",
    "\n",
    "for layer in base_model.layers :\n",
    "    layer.trainable = False\n",
    "    \n",
    "model.compile(optimizer = tf.keras.optimizers.Adam(config.learning_rate), loss = config.loss_function, metrics = [\"acc\"])"
   ]
  },
  {
   "cell_type": "code",
   "execution_count": null,
   "metadata": {},
   "outputs": [],
   "source": [
    "model.summary()"
   ]
  },
  {
   "cell_type": "code",
   "execution_count": null,
   "metadata": {},
   "outputs": [],
   "source": [
    "import warnings\n",
    "warnings.filterwarnings(\"ignore\")\n",
    "\n",
    "wandb_callback = WandbCallback()\n",
    "model.fit(train_label, epochs = config.epochs, steps_per_epoch = 100, validation_data = valid_label, callbacks = [wandb_callback])"
   ]
  },
  {
   "cell_type": "code",
   "execution_count": null,
   "metadata": {},
   "outputs": [],
   "source": [
    "loss, accuracy = model.evaluate(test_label, verbose = 2)\n",
    "print(\"Test Error Rate : \", round((1-accuracy)*100, 2))\n",
    "\n",
    "wandb.log({\"Test Error Rate\":  round((1-accuracy)*100, 2)})\n",
    "run.join()"
   ]
  }
 ]
}